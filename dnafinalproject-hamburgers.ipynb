{
 "cells": [
  {
   "cell_type": "code",
   "execution_count": 29,
   "metadata": {
    "collapsed": false,
    "deletable": true,
    "editable": true
   },
   "outputs": [
    {
     "name": "stdout",
     "output_type": "stream",
     "text": [
      "[68.95238095238095, 0.4761904761904762, 73.42857142857143, 0.0, 73.42857142857143, 72.85714285714285, 71.23809523809524, 71.71428571428572, 69.9047619047619, 67.71428571428572, 69.71428571428572, 73.80952380952381, 72.85714285714285, 64.66666666666666, 72.95238095238096, 70.0, 71.42857142857143, 73.33333333333333, 73.52380952380952, 61.523809523809526, 72.85714285714285, 70.0952380952381, 72.66666666666667]\n",
      "[0.0, 0.4761904761904762, 61.523809523809526, 64.66666666666666, 67.71428571428572, 68.95238095238095, 69.71428571428572, 69.9047619047619, 70.0, 70.0952380952381, 71.23809523809524, 71.42857142857143, 71.71428571428572, 72.66666666666667, 72.85714285714285, 72.85714285714285, 72.85714285714285, 72.95238095238096, 73.33333333333333, 73.42857142857143, 73.42857142857143, 73.52380952380952, 73.80952380952381]\n"
     ]
    }
   ],
   "source": [
    "g1 = open(\"Axis porcinus_mitochondrion.txt\")\n",
    "g2 = open(\"Bos indicus_mitochondrion.txt\")\n",
    "g3 = open(\"Bos mutus_mitochondrion.txt\")\n",
    "g4 = open(\"Bos taurus_mitochondrion.txt\")\n",
    "g5 = open(\"Bubalus bubalis_mitochondrion.txt\")\n",
    "g6 = open(\"Capra hircus_mitochondrion.txt\")\n",
    "g7 = open(\"Delphinapterus leucas_mitochondrion.txt\")\n",
    "g8 = open(\"Dicerorhinus sumatrensis_mitochondrion.txt\")\n",
    "g9 = open(\"Dorosoma cepedianum_mitochondrion.txt\")\n",
    "g10 = open(\"Elseya branderhorsti_mitochondrion.txt\")\n",
    "g11 = open(\"Equus asinus somalicus_mitochondrion.txt\")\n",
    "g12 = open(\"Gadopsis marmoratus_mitochondrion.txt\")\n",
    "g13 = open(\"Liparis ochotensis_mitochondrion.txt\")\n",
    "axis_porcinus=g1.read()\n",
    "bos_indicus=g2.read()\n",
    "bos_mutus=g3.read()\n",
    "bos_taurus=g4.read()\n",
    "bubalus_bubalis=g5.read()\n",
    "capra_hirucus=g6.read()\n",
    "delphinapterus_leucas=g7.read()\n",
    "dicerorhinus_sumatr=g8.read()\n",
    "dorosoma_cepedianum=g9.read()\n",
    "elseya_banderhorsti=g10.read()\n",
    "equus_asinus=g11.read()\n",
    "gadopsis_marmoratus=g12.read()\n",
    "liparis_ochotensis=g13.read()\n",
    "f1 = open(\"Rusa timorensis_mitochondrion.txt\")\n",
    "rusa = f1.read()\n",
    "f2 = open(\"Mystery_mitochondrion.txt\")\n",
    "mystery = f2.read()\n",
    "f3 = open(\"Manis tetradactyla_mitochondrion.txt\")\n",
    "manis = f3.read()\n",
    "f4 = open(\"Mordacia mordax_mitochondrion.txt\")\n",
    "mordacia = f4.read()\n",
    "f5 = open(\"Moschus berezovskii_mitochondrion.txt\")\n",
    "moschus = f5.read()\n",
    "f6 = open(\"Phrynosoma blainvillii_mitochondrion.txt\")\n",
    "phrynosoma = f6.read()\n",
    "f7 = open(\"Prolemur simus_mitochondrion.txt\")\n",
    "prolemur = f7.read()\n",
    "f8 = open(\"Pseudacris regilla_mitochondrion.txt\")\n",
    "pseudacris = f8.read()\n",
    "f9 = open(\"Prionailurus planiceps_mitochondrion.txt\")\n",
    "prionailurus = f9.read()\n",
    "f10 = open (\"Sciurus vulgaris_mitochondrion.txt\")\n",
    "sciurus_vulgaris = f10.read()\n",
    "f11 = open(\"Sorex sinalis_mitochondrion.txt\")\n",
    "sorex_sinalis = f11.read()\n",
    "f12 = open(\"Sus scrofa_mitochondrion.txt\")\n",
    "sus_scrofa = f12.read()\n",
    "\n",
    "percentdiff = []    \n",
    "\n",
    "def similarity(file1, file2):\n",
    "    c = -1\n",
    "    diff = 0\n",
    "    for char in file1:\n",
    "        c += 1\n",
    "        if char == file2[c]:\n",
    "            continue\n",
    "        else:\n",
    "            diff += 1\n",
    "    #percentdiff.append(file1)\n",
    "    #percentdiff.append(':')\n",
    "    percentdiff.append((diff/len(file1))*100)\n",
    "    \n",
    "similarity(axis_porcinus, mystery)\n",
    "similarity(bos_indicus, mystery)\n",
    "similarity(bos_mutus, mystery)\n",
    "similarity(bos_taurus, mystery)\n",
    "similarity(bubalus_bubalis, mystery)\n",
    "similarity(capra_hirucus, mystery)\n",
    "similarity(delphinapterus_leucas, mystery)\n",
    "similarity(dicerorhinus_sumatr, mystery)\n",
    "similarity(dorosoma_cepedianum, mystery)\n",
    "similarity(elseya_banderhorsti, mystery)\n",
    "similarity(equus_asinus, mystery)\n",
    "similarity(gadopsis_marmoratus, mystery)\n",
    "similarity(liparis_ochotensis, mystery)\n",
    "similarity(manis, mystery)\n",
    "similarity(mordacia, mystery)\n",
    "similarity(moschus, mystery)\n",
    "similarity(phrynosoma, mystery)\n",
    "similarity(prolemur, mystery)\n",
    "similarity(prionailurus, mystery)\n",
    "similarity(rusa, mystery)\n",
    "similarity(sciurus_vulgaris, mystery)\n",
    "similarity(sorex_sinalis, mystery)\n",
    "similarity(sus_scrofa, mystery)\n",
    "\n",
    "\n",
    "print(percentdiff)\n",
    "\n",
    "percentdiff.sort()\n",
    "print(percentdiff)"
   ]
  },
  {
   "cell_type": "code",
   "execution_count": null,
   "metadata": {
    "collapsed": true,
    "deletable": true,
    "editable": true
   },
   "outputs": [],
   "source": []
  },
  {
   "cell_type": "code",
   "execution_count": null,
   "metadata": {
    "collapsed": true,
    "deletable": true,
    "editable": true
   },
   "outputs": [],
   "source": []
  },
  {
   "cell_type": "code",
   "execution_count": null,
   "metadata": {
    "collapsed": true,
    "deletable": true,
    "editable": true
   },
   "outputs": [],
   "source": []
  }
 ],
 "metadata": {
  "kernelspec": {
   "display_name": "Python 3",
   "language": "python",
   "name": "python3"
  },
  "language_info": {
   "codemirror_mode": {
    "name": "ipython",
    "version": 3
   },
   "file_extension": ".py",
   "mimetype": "text/x-python",
   "name": "python",
   "nbconvert_exporter": "python",
   "pygments_lexer": "ipython3",
   "version": "3.5.2"
  }
 },
 "nbformat": 4,
 "nbformat_minor": 2
}
